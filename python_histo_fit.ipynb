{
 "cells": [
  {
   "cell_type": "markdown",
   "id": "cathedral-software",
   "metadata": {},
   "source": [
    "# Example of exponential fit of a histogram in python"
   ]
  },
  {
   "cell_type": "markdown",
   "id": "computational-battery",
   "metadata": {},
   "source": [
    "Adapted from [https://blog.finxter.com/exponential-fit-with-scipys-curve_fit/](https://blog.finxter.com/exponential-fit-with-scipys-curve_fit/)"
   ]
  },
  {
   "cell_type": "code",
   "execution_count": 1,
   "id": "affecting-check",
   "metadata": {},
   "outputs": [],
   "source": [
    "from scipy.optimize import curve_fit\n",
    "import matplotlib.pyplot as plt\n",
    "import numpy as np\n",
    "%matplotlib inline"
   ]
  },
  {
   "cell_type": "code",
   "execution_count": 2,
   "id": "saving-warren",
   "metadata": {},
   "outputs": [],
   "source": [
    "#-----APPLY AN EXPONENTIAL FIT TO A HISTOGRAM--------\n",
    "\n",
    "data = np.random.exponential(5, size=10000) #generating a random exponential distribution\n",
    "hist = np.histogram(data, bins=\"auto\")[0] #generating a histogram from the exponential distribution\n",
    "x = np.arange(0, len(hist), 1) # generating an array that contains the coordinated of the left edge of each bar"
   ]
  },
  {
   "cell_type": "code",
   "execution_count": 3,
   "id": "champion-particle",
   "metadata": {},
   "outputs": [
    {
     "name": "stderr",
     "output_type": "stream",
     "text": [
      "<ipython-input-3-bb6461d61e57>:4: RuntimeWarning: overflow encountered in exp\n",
      "  y = a*np.exp(-b*x)\n"
     ]
    },
    {
     "data": {
      "image/png": "[encoded data removed]",
      "text/plain": [
       "<Figure size 432x288 with 1 Axes>"
      ]
     },
     "metadata": {
      "needs_background": "light"
     },
     "output_type": "display_data"
    }
   ],
   "source": [
    "#---DECAYING FIT OF THE DISTRIBUTION----\n",
    "\n",
    "def exp_fit(x,a,b):    #defining a decaying exponential function\n",
    "    y = a*np.exp(-b*x)\n",
    "    return y\n",
    "x_fit = x + x[1]/2 # the point of the fit will be positioned at the center of the bins\n",
    "fit_ = curve_fit(exp_fit,x_fit,hist) # calling the fit function\n",
    "fit_eq = fit_[0][0]*np.exp(-fit_[0][1]*x_fit) # building the y-array of the fit\n",
    "#Plotting\n",
    "plt.bar(x,hist, alpha = 0.5, align = 'edge', width = 1)\n",
    "plt.plot(x_fit,fit_eq, color = 'red')\n",
    "plt.grid()\n",
    "plt.show()"
   ]
  },
  {
   "cell_type": "code",
   "execution_count": 4,
   "id": "pleasant-stock",
   "metadata": {},
   "outputs": [
    {
     "data": {
      "text/plain": [
       "(array([1.06101159e+03, 1.07232570e-01]),\n",
       " array([[5.49264029e+01, 5.56175132e-03],\n",
       "        [5.56175132e-03, 1.11991950e-06]]))"
      ]
     },
     "execution_count": 4,
     "metadata": {},
     "output_type": "execute_result"
    }
   ],
   "source": [
    "fit_"
   ]
  },
  {
   "cell_type": "code",
   "execution_count": 5,
   "id": "sexual-collapse",
   "metadata": {},
   "outputs": [
    {
     "data": {
      "image/png": "[encoded data removed]",
      "text/plain": [
       "<Figure size 432x288 with 1 Axes>"
      ]
     },
     "metadata": {
      "needs_background": "light"
     },
     "output_type": "display_data"
    }
   ],
   "source": [
    "# Using exponential() method\n",
    "gfg = np.random.exponential(4, 10000)\n",
    "\n",
    "counts, bins, ignored = plt.hist(gfg, 14, density = True)\n",
    "plt.show()\n"
   ]
  }
 ],
 "metadata": {
  "kernelspec": {
   "display_name": "Python 3",
   "language": "python",
   "name": "python3"
  },
  "language_info": {
   "codemirror_mode": {
    "name": "ipython",
    "version": 3
   },
   "file_extension": ".py",
   "mimetype": "text/x-python",
   "name": "python",
   "nbconvert_exporter": "python",
   "pygments_lexer": "ipython3",
   "version": "3.9.2"
  }
 },
 "nbformat": 4,
 "nbformat_minor": 5
}
