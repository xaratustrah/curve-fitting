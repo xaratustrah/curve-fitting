{
 "cells": [
  {
   "cell_type": "markdown",
   "id": "metric-messenger",
   "metadata": {},
   "source": [
    "# comparison of fitting a gaussian in ROOT and numpy"
   ]
  },
  {
   "cell_type": "markdown",
   "id": "official-receiver",
   "metadata": {},
   "source": [
    "what does numpy.random.normal do?\n",
    "\n",
    "According to [the documentation](https://numpy.org/doc/stable/reference/random/generated/numpy.random.normal.html) we have:\n",
    "\n",
    "$$f(x) = \\frac{1}{\\sigma \\sqrt{2\\pi} } e^{-\\frac{1}{2}\\left(\\frac{x-\\mu}{\\sigma}\\right)^2}$$\n",
    "\n",
    "it draws random samples according to the normal distribution."
   ]
  },
  {
   "cell_type": "code",
   "execution_count": 1,
   "id": "large-voice",
   "metadata": {},
   "outputs": [
    {
     "name": "stdout",
     "output_type": "stream",
     "text": [
      "Welcome to JupyROOT 6.22/06\n"
     ]
    }
   ],
   "source": [
    "import numpy as np\n",
    "import matplotlib.pyplot as plt\n",
    "from scipy.optimize import curve_fit\n",
    "from ROOT import TCanvas, TH1F\n",
    "%jsroot off\n",
    "%matplotlib inline"
   ]
  },
  {
   "cell_type": "markdown",
   "id": "nominated-harvest",
   "metadata": {},
   "source": [
    "First we crate a sample distribution"
   ]
  },
  {
   "cell_type": "code",
   "execution_count": 2,
   "id": "covered-bobby",
   "metadata": {},
   "outputs": [],
   "source": [
    "mean_sim = 400\n",
    "sigma_sim = 40\n",
    "\n",
    "data = np.random.normal(loc = mean_sim, scale = sigma_sim, size=10000)"
   ]
  },
  {
   "cell_type": "markdown",
   "id": "behind-pound",
   "metadata": {},
   "source": [
    "we frist have a look using ROOT"
   ]
  },
  {
   "cell_type": "code",
   "execution_count": 3,
   "id": "external-break",
   "metadata": {},
   "outputs": [
    {
     "data": {
      "image/png": "[encoded data removed]",
      "text/plain": [
       "<IPython.core.display.Image object>"
      ]
     },
     "metadata": {},
     "output_type": "display_data"
    }
   ],
   "source": [
    "h1 = TH1F('h1', 'h1', 100, 0, 1000)\n",
    "for ii in data:\n",
    "    h1.Fill(ii)\n",
    "c = TCanvas(\"c\",\"c\",400,300)\n",
    "c.cd()\n",
    "h1.Draw()\n",
    "c.Draw()"
   ]
  },
  {
   "cell_type": "markdown",
   "id": "current-uniform",
   "metadata": {},
   "source": [
    "Now we have a look using Numpy. Please pay attention that the parameter **range** is very important. In ROOT histograms, this task is taken care of by the Histogram object. Here you have to make sure you have the correct x-axis in Numpy histo."
   ]
  },
  {
   "cell_type": "code",
   "execution_count": 4,
   "id": "medical-collection",
   "metadata": {},
   "outputs": [
    {
     "data": {
      "text/plain": [
       "[<matplotlib.lines.Line2D at 0x157400e50>]"
      ]
     },
     "execution_count": 4,
     "metadata": {},
     "output_type": "execute_result"
    },
    {
     "data": {
      "image/png": "[encoded data removed]",
      "text/plain": [
       "<Figure size 432x288 with 1 Axes>"
      ]
     },
     "metadata": {
      "needs_background": "light"
     },
     "output_type": "display_data"
    }
   ],
   "source": [
    "hist = np.histogram(data, bins=100, range=(0,1000))[0]\n",
    "x = np.arange(0, 1000, 1000/100)\n",
    "plt.step(x, hist)"
   ]
  },
  {
   "cell_type": "markdown",
   "id": "atomic-brick",
   "metadata": {},
   "source": [
    "now we define an exponential fit function"
   ]
  },
  {
   "cell_type": "code",
   "execution_count": 5,
   "id": "orange-charter",
   "metadata": {},
   "outputs": [],
   "source": [
    "def fit_function(x, *p):\n",
    "    # gauss\n",
    "    return p[0] * np.exp(-(x - p[1]) ** 2 / (2. * p[2] ** 2))\n",
    "\n",
    "# fit params and some initial values\n",
    "y = hist\n",
    "x = x\n",
    "p = [10, 350, 10]\n",
    "\n",
    "# do fit\n",
    "popt, pcov = curve_fit(fit_function, x, y, p0=p)"
   ]
  },
  {
   "cell_type": "code",
   "execution_count": 6,
   "id": "stupid-subsection",
   "metadata": {},
   "outputs": [
    {
     "data": {
      "image/png": "[encoded data removed]",
      "text/plain": [
       "<Figure size 432x288 with 1 Axes>"
      ]
     },
     "metadata": {
      "needs_background": "light"
     },
     "output_type": "display_data"
    }
   ],
   "source": [
    "# plot fit and data\n",
    "\n",
    "fig = plt.figure()\n",
    "ax = fig.gca()\n",
    "ax.step(x, y, label='Sim', where='post')\n",
    "ax.plot(x, fit_function(x, *popt), 'r', label='Fit', alpha=0.6)\n",
    "ax.set_xlabel('amp = {:0.2e}, mean = {:0.2e}, sigma = {:0.2e}'.format(popt[0], popt[1], popt[2]))\n",
    "ax.set_title('sim+fit')\n",
    "legend = ax.legend(loc='upper right', shadow=False)\n",
    "ax.grid()"
   ]
  },
  {
   "cell_type": "markdown",
   "id": "earned-merchant",
   "metadata": {},
   "source": [
    "Now we do the same with ROOT"
   ]
  },
  {
   "cell_type": "code",
   "execution_count": 7,
   "id": "applicable-franklin",
   "metadata": {},
   "outputs": [
    {
     "name": "stdout",
     "output_type": "stream",
     "text": [
      " FCN=19.4415 FROM MIGRAD    STATUS=CONVERGED      64 CALLS          65 TOTAL\n",
      "                     EDM=3.33047e-12    STRATEGY= 1      ERROR MATRIX ACCURATE \n",
      "  EXT PARAMETER                                   STEP         FIRST   \n",
      "  NO.   NAME      VALUE            ERROR          SIZE      DERIVATIVE \n",
      "   1  Constant     9.90358e+02   1.20898e+01   2.18846e-02   2.38814e-07\n",
      "   2  Mean         4.00638e+02   4.03622e-01   8.89658e-04  -1.39700e-06\n",
      "   3  Sigma        4.02109e+01   2.81651e-01   4.21733e-06   1.09089e-03\n"
     ]
    },
    {
     "name": "stderr",
     "output_type": "stream",
     "text": [
      "Warning in <TROOT::Append>: Replacing existing TH1: h1 (Potential memory leak).\n",
      "Warning in <TCanvas::Constructor>: Deleting canvas with same name: c\n"
     ]
    },
    {
     "data": {
      "image/png": "[encoded data removed]",
      "text/plain": [
       "<IPython.core.display.Image object>"
      ]
     },
     "metadata": {},
     "output_type": "display_data"
    }
   ],
   "source": [
    "h1 = TH1F('h1', 'h1', 100, 0, 1000)\n",
    "for ii in data:\n",
    "    h1.Fill(ii)\n",
    "\n",
    "h1.Fit('gaus', 'S')\n",
    "\n",
    "c = TCanvas(\"c\",\"c\",400,300)\n",
    "c.cd()\n",
    "h1.Draw()\n",
    "c.Draw()"
   ]
  },
  {
   "cell_type": "code",
   "execution_count": 8,
   "id": "phantom-scoop",
   "metadata": {},
   "outputs": [],
   "source": [
    "gfit = h1.GetFunction('gaus')\n",
    "const = gfit.GetParameter(0)\n",
    "mean = gfit.GetParameter(1)\n",
    "sigma = gfit.GetParameter(2)"
   ]
  },
  {
   "cell_type": "code",
   "execution_count": 9,
   "id": "liable-tourism",
   "metadata": {},
   "outputs": [
    {
     "name": "stdout",
     "output_type": "stream",
     "text": [
      "Seed mean = 400, sigma = 40\n",
      "ROOT mean = 400.6383744511229, sigma = 40.210890732884494\n",
      "Numpy mean = 394.98260994343974, sigma = 40.41600897066597\n"
     ]
    }
   ],
   "source": [
    "print(f'Seed mean = {mean_sim}, sigma = {sigma_sim}')\n",
    "print(f'ROOT mean = {mean}, sigma = {sigma}')\n",
    "print(f'Numpy mean = {popt[1]}, sigma = {popt[2]}')"
   ]
  }
 ],
 "metadata": {
  "kernelspec": {
   "display_name": "Python 3",
   "language": "python",
   "name": "python3"
  },
  "language_info": {
   "codemirror_mode": {
    "name": "ipython",
    "version": 3
   },
   "file_extension": ".py",
   "mimetype": "text/x-python",
   "name": "python",
   "nbconvert_exporter": "python",
   "pygments_lexer": "ipython3",
   "version": "3.9.2"
  }
 },
 "nbformat": 4,
 "nbformat_minor": 5
}
