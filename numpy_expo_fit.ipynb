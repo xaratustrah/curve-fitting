{
 "cells": [
  {
   "cell_type": "markdown",
   "id": "metric-messenger",
   "metadata": {},
   "source": [
    "# make sure what python expo distribution does"
   ]
  },
  {
   "cell_type": "markdown",
   "id": "official-receiver",
   "metadata": {},
   "source": [
    "what does numpy.random.exponential do?\n",
    "\n",
    "According to [the documentation](https://numpy.org/doc/stable/reference/random/generated/numpy.random.exponential.html) we have:\n",
    "\n",
    "$$f\\left(x; \\frac{1}{\\tau}\\right)=\\frac{1}{\\tau}e^{\\frac{-x}{\\tau}}$$\n",
    "\n",
    "it draws random samples according to the exponential distribution, where $\\tau$ is mean life time. It is scaled / normalized to $\\tau$ itself."
   ]
  },
  {
   "cell_type": "code",
   "execution_count": 1,
   "id": "working-today",
   "metadata": {},
   "outputs": [],
   "source": [
    "import numpy as np\n",
    "import matplotlib.pyplot as plt\n",
    "from scipy.optimize import curve_fit\n",
    "%matplotlib inline"
   ]
  },
  {
   "cell_type": "markdown",
   "id": "nominated-harvest",
   "metadata": {},
   "source": [
    "First we crate a sample distribution"
   ]
  },
  {
   "cell_type": "code",
   "execution_count": 2,
   "id": "medical-collection",
   "metadata": {},
   "outputs": [
    {
     "data": {
      "text/plain": [
       "[<matplotlib.lines.Line2D at 0x13cd05d00>]"
      ]
     },
     "execution_count": 2,
     "metadata": {},
     "output_type": "execute_result"
    },
    {
     "data": {
      "image/png": "[encoded data removed]",
      "text/plain": [
       "<Figure size 432x288 with 1 Axes>"
      ]
     },
     "metadata": {
      "needs_background": "light"
     },
     "output_type": "display_data"
    }
   ],
   "source": [
    "tau_sim = 1\n",
    "data = np.random.exponential(tau_sim, size=10000)\n",
    "hist = np.histogram(data, bins=\"auto\")[0]\n",
    "x = np.arange(0, len(hist), 1)\n",
    "\n",
    "plt.step(x, hist)"
   ]
  },
  {
   "cell_type": "markdown",
   "id": "atomic-brick",
   "metadata": {},
   "source": [
    "now we define an exponential fit function"
   ]
  },
  {
   "cell_type": "code",
   "execution_count": 3,
   "id": "orange-charter",
   "metadata": {},
   "outputs": [],
   "source": [
    "def fit_function(x, *p):\n",
    "    # Exponential function\n",
    "    return p[0] * np.exp(-x / p[1])\n",
    "\n",
    "# fit params and some initial values\n",
    "y = hist\n",
    "x = x\n",
    "p = [1, 1]\n",
    "\n",
    "# do fit\n",
    "popt, pcov = curve_fit(fit_function, x, y, p0=p)"
   ]
  },
  {
   "cell_type": "code",
   "execution_count": 4,
   "id": "stupid-subsection",
   "metadata": {},
   "outputs": [
    {
     "data": {
      "image/png": "[encoded data removed]",
      "text/plain": [
       "<Figure size 432x288 with 1 Axes>"
      ]
     },
     "metadata": {
      "needs_background": "light"
     },
     "output_type": "display_data"
    }
   ],
   "source": [
    "# plot fit and data\n",
    "\n",
    "fig = plt.figure()\n",
    "ax = fig.gca()\n",
    "ax.step(x, y, label='Sim', where='post')\n",
    "ax.plot(x, fit_function(x, *popt), 'r', label='Fit', alpha=0.6)\n",
    "ax.set_xlabel('amp = {:0.2e}, tau = {:0.2e}'.format(popt[0], popt[1]))\n",
    "ax.set_title('sim+fit')\n",
    "legend = ax.legend(loc='upper right', shadow=False)\n",
    "ax.grid()"
   ]
  },
  {
   "cell_type": "code",
   "execution_count": 5,
   "id": "representative-malawi",
   "metadata": {},
   "outputs": [
    {
     "name": "stdout",
     "output_type": "stream",
     "text": [
      "amp is 9.68e+02 and tau is 9.82e+00\n"
     ]
    }
   ],
   "source": [
    "print(f'amp is {popt[0]:0.2e} and tau is {popt[1]:0.2e}')"
   ]
  }
 ],
 "metadata": {
  "kernelspec": {
   "display_name": "Python 3",
   "language": "python",
   "name": "python3"
  },
  "language_info": {
   "codemirror_mode": {
    "name": "ipython",
    "version": 3
   },
   "file_extension": ".py",
   "mimetype": "text/x-python",
   "name": "python",
   "nbconvert_exporter": "python",
   "pygments_lexer": "ipython3",
   "version": "3.9.2"
  }
 },
 "nbformat": 4,
 "nbformat_minor": 5
}
