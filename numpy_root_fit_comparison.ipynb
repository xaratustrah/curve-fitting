{
 "cells": [
  {
   "cell_type": "markdown",
   "id": "metric-messenger",
   "metadata": {},
   "source": [
    "# Comparison of fitting using ROOT and numpy histograms"
   ]
  },
  {
   "cell_type": "markdown",
   "id": "piano-theta",
   "metadata": {},
   "source": [
    "### Gaussian distribution"
   ]
  },
  {
   "cell_type": "markdown",
   "id": "official-receiver",
   "metadata": {},
   "source": [
    "what does numpy.random.normal do?\n",
    "\n",
    "According to [the documentation](https://numpy.org/doc/stable/reference/random/generated/numpy.random.normal.html) we have:\n",
    "\n",
    "$$f(x) = \\frac{1}{\\sigma \\sqrt{2\\pi} } e^{-\\frac{1}{2}\\left(\\frac{x-\\mu}{\\sigma}\\right)^2}$$\n",
    "\n",
    "it draws random samples according to the normal distribution."
   ]
  },
  {
   "cell_type": "code",
   "execution_count": 1,
   "id": "large-voice",
   "metadata": {},
   "outputs": [
    {
     "name": "stdout",
     "output_type": "stream",
     "text": [
      "Welcome to JupyROOT 6.22/06\n"
     ]
    }
   ],
   "source": [
    "import numpy as np\n",
    "import matplotlib.pyplot as plt\n",
    "from scipy.optimize import curve_fit\n",
    "from ROOT import TCanvas, TH1F\n",
    "%jsroot off\n",
    "%matplotlib inline"
   ]
  },
  {
   "cell_type": "markdown",
   "id": "nominated-harvest",
   "metadata": {},
   "source": [
    "First we crate a sample distribution"
   ]
  },
  {
   "cell_type": "code",
   "execution_count": 2,
   "id": "covered-bobby",
   "metadata": {},
   "outputs": [],
   "source": [
    "mean_sim = 400\n",
    "sigma_sim = 40\n",
    "\n",
    "data = np.random.normal(loc = mean_sim, scale = sigma_sim, size=10000)"
   ]
  },
  {
   "cell_type": "markdown",
   "id": "behind-pound",
   "metadata": {},
   "source": [
    "we frist have a look using ROOT"
   ]
  },
  {
   "cell_type": "code",
   "execution_count": 3,
   "id": "external-break",
   "metadata": {},
   "outputs": [
    {
     "data": {
      "image/png": "[encoded data removed]",
      "text/plain": [
       "<IPython.core.display.Image object>"
      ]
     },
     "metadata": {},
     "output_type": "display_data"
    }
   ],
   "source": [
    "h1 = TH1F('h1', 'h1', 100, 0, 1000)\n",
    "for ii in data:\n",
    "    h1.Fill(ii)\n",
    "c = TCanvas(\"c\",\"c\",400,300)\n",
    "c.cd()\n",
    "h1.Draw()\n",
    "c.Draw()"
   ]
  },
  {
   "cell_type": "markdown",
   "id": "current-uniform",
   "metadata": {},
   "source": [
    "Now we have a look using Numpy. Please pay attention that the parameter **range** is very important. In ROOT histograms, this task is taken care of by the Histogram object. Here you have to make sure you have the correct x-axis in Numpy histo."
   ]
  },
  {
   "cell_type": "code",
   "execution_count": 4,
   "id": "medical-collection",
   "metadata": {},
   "outputs": [
    {
     "data": {
      "text/plain": [
       "[<matplotlib.lines.Line2D at 0x1619bfd30>]"
      ]
     },
     "execution_count": 4,
     "metadata": {},
     "output_type": "execute_result"
    },
    {
     "data": {
      "image/png": "[encoded data removed]",
      "text/plain": [
       "<Figure size 432x288 with 1 Axes>"
      ]
     },
     "metadata": {
      "needs_background": "light"
     },
     "output_type": "display_data"
    }
   ],
   "source": [
    "hist = np.histogram(data, bins=100, range=(0,1000))[0]\n",
    "x = np.arange(0, 1000, 1000/100)\n",
    "plt.step(x, hist)"
   ]
  },
  {
   "cell_type": "markdown",
   "id": "atomic-brick",
   "metadata": {},
   "source": [
    "now we define an exponential fit function"
   ]
  },
  {
   "cell_type": "code",
   "execution_count": 5,
   "id": "orange-charter",
   "metadata": {},
   "outputs": [],
   "source": [
    "def fit_function(x, *p):\n",
    "    # gauss\n",
    "    return p[0] * np.exp(-(x - p[1]) ** 2 / (2. * p[2] ** 2))\n",
    "\n",
    "# fit params and some initial values\n",
    "y = hist\n",
    "x = x\n",
    "p = [10, 350, 10]\n",
    "\n",
    "# do fit\n",
    "popt, pcov = curve_fit(fit_function, x, y, p0=p)"
   ]
  },
  {
   "cell_type": "code",
   "execution_count": 6,
   "id": "stupid-subsection",
   "metadata": {},
   "outputs": [
    {
     "data": {
      "image/png": "[encoded data removed]",
      "text/plain": [
       "<Figure size 432x288 with 1 Axes>"
      ]
     },
     "metadata": {
      "needs_background": "light"
     },
     "output_type": "display_data"
    }
   ],
   "source": [
    "# plot fit and data\n",
    "\n",
    "fig = plt.figure()\n",
    "ax = fig.gca()\n",
    "ax.step(x, y, label='Sim', where='post')\n",
    "ax.plot(x, fit_function(x, *popt), 'r', label='Fit', alpha=0.6)\n",
    "ax.set_xlabel('amp = {:0.2e}, mean = {:0.2e}, sigma = {:0.2e}'.format(popt[0], popt[1], popt[2]))\n",
    "ax.set_title('sim+fit')\n",
    "legend = ax.legend(loc='upper right', shadow=False)\n",
    "ax.grid()"
   ]
  },
  {
   "cell_type": "markdown",
   "id": "earned-merchant",
   "metadata": {},
   "source": [
    "Now we do the same with ROOT"
   ]
  },
  {
   "cell_type": "code",
   "execution_count": 7,
   "id": "applicable-franklin",
   "metadata": {},
   "outputs": [
    {
     "name": "stdout",
     "output_type": "stream",
     "text": [
      " FCN=29.4955 FROM MIGRAD    STATUS=CONVERGED      56 CALLS          57 TOTAL\n",
      "                     EDM=1.23703e-07    STRATEGY= 1      ERROR MATRIX ACCURATE \n",
      "  EXT PARAMETER                                   STEP         FIRST   \n",
      "  NO.   NAME      VALUE            ERROR          SIZE      DERIVATIVE \n",
      "   1  Constant     9.84967e+02   1.20591e+01   2.66055e-02  -4.54228e-05\n",
      "   2  Mean         3.99879e+02   4.05125e-01   1.09240e-03   1.53806e-05\n",
      "   3  Sigma        4.03915e+01   2.85273e-01   5.18527e-06  -2.25985e-01\n"
     ]
    },
    {
     "name": "stderr",
     "output_type": "stream",
     "text": [
      "Warning in <TROOT::Append>: Replacing existing TH1: h1 (Potential memory leak).\n",
      "Warning in <TCanvas::Constructor>: Deleting canvas with same name: c\n"
     ]
    },
    {
     "data": {
      "image/png": "[encoded data removed]",
      "text/plain": [
       "<IPython.core.display.Image object>"
      ]
     },
     "metadata": {},
     "output_type": "display_data"
    }
   ],
   "source": [
    "h1 = TH1F('h1', 'h1', 100, 0, 1000)\n",
    "for ii in data:\n",
    "    h1.Fill(ii)\n",
    "\n",
    "h1.Fit('gaus', 'S')\n",
    "\n",
    "c = TCanvas(\"c\",\"c\",400,300)\n",
    "c.cd()\n",
    "h1.Draw()\n",
    "c.Draw()"
   ]
  },
  {
   "cell_type": "code",
   "execution_count": 8,
   "id": "phantom-scoop",
   "metadata": {},
   "outputs": [],
   "source": [
    "gfit = h1.GetFunction('gaus')\n",
    "const = gfit.GetParameter(0)\n",
    "mean = gfit.GetParameter(1)\n",
    "sigma = gfit.GetParameter(2)"
   ]
  },
  {
   "cell_type": "code",
   "execution_count": 9,
   "id": "liable-tourism",
   "metadata": {},
   "outputs": [
    {
     "name": "stdout",
     "output_type": "stream",
     "text": [
      "Seed mean = 400, sigma = 40\n",
      "ROOT mean = 399.8792450144178, sigma = 40.3914949490922\n",
      "Numpy mean = 394.5945728060125, sigma = 40.54517110849455\n"
     ]
    }
   ],
   "source": [
    "print(f'Seed mean = {mean_sim}, sigma = {sigma_sim}')\n",
    "print(f'ROOT mean = {mean}, sigma = {sigma}')\n",
    "print(f'Numpy mean = {popt[1]}, sigma = {popt[2]}')"
   ]
  },
  {
   "cell_type": "markdown",
   "id": "historical-institution",
   "metadata": {},
   "source": [
    "### Exponential distribution"
   ]
  },
  {
   "cell_type": "markdown",
   "id": "married-mercy",
   "metadata": {},
   "source": [
    "what does numpy.random.exponential do?\n",
    "\n",
    "According to [the documentation](https://numpy.org/doc/stable/reference/random/generated/numpy.random.exponential.html) we have:\n",
    "\n",
    "$$f\\left(x; \\frac{1}{\\tau}\\right)=\\frac{1}{\\tau}e^{\\frac{-x}{\\tau}}$$\n",
    "\n",
    "it draws random samples according to the exponential distribution, where $\\tau$ is mean life time. It is scaled / normalized to $\\tau$ itself."
   ]
  },
  {
   "cell_type": "markdown",
   "id": "nominated-harvest",
   "metadata": {},
   "source": [
    "First we crate a sample distribution"
   ]
  },
  {
   "cell_type": "code",
   "execution_count": 10,
   "id": "nominated-happiness",
   "metadata": {},
   "outputs": [],
   "source": [
    "tau_sim = 333\n",
    "\n",
    "data = np.random.exponential(tau_sim, size=10000)"
   ]
  },
  {
   "cell_type": "markdown",
   "id": "nervous-tablet",
   "metadata": {},
   "source": [
    "First we have a look using ROOT"
   ]
  },
  {
   "cell_type": "code",
   "execution_count": 11,
   "id": "found-response",
   "metadata": {},
   "outputs": [
    {
     "name": "stderr",
     "output_type": "stream",
     "text": [
      "Warning in <TROOT::Append>: Replacing existing TH1: h1 (Potential memory leak).\n",
      "Warning in <TCanvas::Constructor>: Deleting canvas with same name: c\n"
     ]
    },
    {
     "data": {
      "image/png": "[encoded data removed]",
      "text/plain": [
       "<IPython.core.display.Image object>"
      ]
     },
     "metadata": {},
     "output_type": "display_data"
    }
   ],
   "source": [
    "h1 = TH1F('h1', 'h1', 100, 0, 1000)\n",
    "for ii in data:\n",
    "    h1.Fill(ii)\n",
    "c = TCanvas(\"c\",\"c\",400,300)\n",
    "c.cd()\n",
    "h1.Draw()\n",
    "c.Draw()"
   ]
  },
  {
   "cell_type": "markdown",
   "id": "looking-passenger",
   "metadata": {},
   "source": [
    "Now we use Numpy histogram"
   ]
  },
  {
   "cell_type": "code",
   "execution_count": 12,
   "id": "medical-collection",
   "metadata": {},
   "outputs": [
    {
     "data": {
      "text/plain": [
       "[<matplotlib.lines.Line2D at 0x161bc32e0>]"
      ]
     },
     "execution_count": 12,
     "metadata": {},
     "output_type": "execute_result"
    },
    {
     "data": {
      "image/png": "[encoded data removed]",
      "text/plain": [
       "<Figure size 432x288 with 1 Axes>"
      ]
     },
     "metadata": {
      "needs_background": "light"
     },
     "output_type": "display_data"
    }
   ],
   "source": [
    "hist = np.histogram(data, bins=100, range=(0,1000))[0]\n",
    "x = np.arange(0, 1000, 1000/100)\n",
    "\n",
    "plt.step(x, hist)"
   ]
  },
  {
   "cell_type": "markdown",
   "id": "atomic-brick",
   "metadata": {},
   "source": [
    "now we define an exponential fit function"
   ]
  },
  {
   "cell_type": "code",
   "execution_count": 13,
   "id": "orange-charter",
   "metadata": {},
   "outputs": [],
   "source": [
    "def fit_function(x, *p):\n",
    "    # Exponential function\n",
    "    return p[0] * np.exp(-x / p[1])\n",
    "\n",
    "# fit params and some initial values\n",
    "y = hist\n",
    "x = x\n",
    "p = [1, 400]\n",
    "\n",
    "# do fit\n",
    "popt, pcov = curve_fit(fit_function, x, y, p0=p)"
   ]
  },
  {
   "cell_type": "code",
   "execution_count": 14,
   "id": "stupid-subsection",
   "metadata": {},
   "outputs": [
    {
     "data": {
      "image/png": "[encoded data removed]",
      "text/plain": [
       "<Figure size 432x288 with 1 Axes>"
      ]
     },
     "metadata": {
      "needs_background": "light"
     },
     "output_type": "display_data"
    }
   ],
   "source": [
    "# plot fit and data\n",
    "\n",
    "fig = plt.figure()\n",
    "ax = fig.gca()\n",
    "ax.step(x, y, label='Sim', where='post')\n",
    "ax.plot(x, fit_function(x, *popt), 'r', label='Fit', alpha=0.6)\n",
    "ax.set_xlabel('amp = {:0.2e}, tau = {:0.2e}'.format(popt[0], popt[1]))\n",
    "ax.set_title('sim+fit')\n",
    "legend = ax.legend(loc='upper right', shadow=False)\n",
    "ax.grid()"
   ]
  },
  {
   "cell_type": "markdown",
   "id": "competitive-officer",
   "metadata": {},
   "source": [
    "Now we do the same with ROOT"
   ]
  },
  {
   "cell_type": "code",
   "execution_count": 15,
   "id": "delayed-musician",
   "metadata": {},
   "outputs": [
    {
     "name": "stdout",
     "output_type": "stream",
     "text": [
      " FCN=100.834 FROM MIGRAD    STATUS=CONVERGED      46 CALLS          47 TOTAL\n",
      "                     EDM=1.63309e-10    STRATEGY= 1      ERROR MATRIX ACCURATE \n",
      "  EXT PARAMETER                                   STEP         FIRST   \n",
      "  NO.   NAME      VALUE            ERROR          SIZE      DERIVATIVE \n",
      "   1  Constant     5.72093e+00   1.59045e-02   5.07710e-05  -3.17936e-04\n",
      "   2  Slope       -3.09297e-03   4.39182e-05   1.40189e-07   3.16982e-01\n"
     ]
    },
    {
     "name": "stderr",
     "output_type": "stream",
     "text": [
      "Warning in <TROOT::Append>: Replacing existing TH1: h1 (Potential memory leak).\n",
      "Warning in <TCanvas::Constructor>: Deleting canvas with same name: c\n"
     ]
    },
    {
     "data": {
      "image/png": "[encoded data removed]",
      "text/plain": [
       "<IPython.core.display.Image object>"
      ]
     },
     "metadata": {},
     "output_type": "display_data"
    }
   ],
   "source": [
    "h1 = TH1F('h1', 'h1', 100, 0, 1000)\n",
    "for ii in data:\n",
    "    h1.Fill(ii)\n",
    "\n",
    "h1.Fit('expo', 'S')\n",
    "\n",
    "c = TCanvas(\"c\",\"c\",400,300)\n",
    "c.cd()\n",
    "h1.Draw()\n",
    "c.Draw()"
   ]
  },
  {
   "cell_type": "code",
   "execution_count": 16,
   "id": "atlantic-shame",
   "metadata": {},
   "outputs": [],
   "source": [
    "gfit = h1.GetFunction('expo')\n",
    "const = gfit.GetParameter(0)\n",
    "lambda_root = gfit.GetParameter(1)\n",
    "tau_root = -1/lambda_root"
   ]
  },
  {
   "cell_type": "code",
   "execution_count": 17,
   "id": "turkish-asset",
   "metadata": {},
   "outputs": [
    {
     "name": "stdout",
     "output_type": "stream",
     "text": [
      "Seed tau = 333\n",
      "ROOT tau = 323.31377273972276\n",
      "Numpy tau = 326.3619681357957\n"
     ]
    }
   ],
   "source": [
    "print(f'Seed tau = {tau_sim}')\n",
    "print(f'ROOT tau = {tau_root}')\n",
    "print(f'Numpy tau = {popt[1]}')"
   ]
  }
 ],
 "metadata": {
  "kernelspec": {
   "display_name": "Python 3",
   "language": "python",
   "name": "python3"
  },
  "language_info": {
   "codemirror_mode": {
    "name": "ipython",
    "version": 3
   },
   "file_extension": ".py",
   "mimetype": "text/x-python",
   "name": "python",
   "nbconvert_exporter": "python",
   "pygments_lexer": "ipython3",
   "version": "3.9.2"
  }
 },
 "nbformat": 4,
 "nbformat_minor": 5
}
